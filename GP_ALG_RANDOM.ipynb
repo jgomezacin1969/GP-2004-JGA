{
  "nbformat": 4,
  "nbformat_minor": 0,
  "metadata": {
    "colab": {
      "provenance": []
    },
    "kernelspec": {
      "name": "python3",
      "display_name": "Python 3"
    },
    "language_info": {
      "name": "python"
    }
  },
  "cells": [
    {
      "cell_type": "code",
      "execution_count": null,
      "metadata": {
        "id": "TW-REueo_TU7",
        "colab": {
          "base_uri": "https://localhost:8080/",
          "height": 1000
        },
        "outputId": "721d1075-4057-49c7-a161-037b2f5339d1",
        "collapsed": true
      },
      "outputs": [
        {
          "output_type": "stream",
          "name": "stdout",
          "text": [
            "Accuracy for NOMBRE_TDOC: 0.8589003263871454\n",
            "                                            precision    recall  f1-score   support\n",
            "\n",
            "Alteraciones Catastrales de Orden Jurídico       0.72      0.28      0.41       494\n",
            "                       Beneficios Fiscales       0.96      0.96      0.96      4221\n",
            "                             Declaraciones       0.89      0.96      0.92      7624\n",
            "                         Declaraciones IAE       0.50      0.03      0.06        30\n",
            "                        Declaraciones IVTM       0.81      0.36      0.50       159\n",
            "                  Declaraciones Tasas y PP       0.90      0.86      0.88       210\n",
            "             Derivación de Responsabilidad       0.65      0.27      0.39        62\n",
            "                              Devoluciones       0.80      0.33      0.47       321\n",
            "                      Devolución de Avales       1.00      0.25      0.40         4\n",
            "                      Documentos Ejecutiva       0.87      0.95      0.91      2413\n",
            "                           Gestión Interna       0.00      0.00      0.00         2\n",
            "             Inspecciones y Comprobaciones       0.77      0.69      0.73       603\n",
            "            Otras Alteraciones Catastrales       0.92      0.21      0.34        57\n",
            "                Otros Tipos de Expedientes       0.84      0.24      0.38       107\n",
            "                 Procedimiento Sancionador       0.00      0.00      0.00         1\n",
            "                                  Recursos       0.74      0.70      0.72      2877\n",
            "                    Sancionador Tributario       1.00      0.49      0.65        35\n",
            "                               Solicitudes       0.79      0.85      0.82      4627\n",
            "                Solicitudes no tributarias       0.00      0.00      0.00         2\n",
            "                        Trámites Ejecutiva       0.70      0.14      0.24        49\n",
            "\n",
            "                                  accuracy                           0.86     23898\n",
            "                                 macro avg       0.69      0.43      0.49     23898\n",
            "                              weighted avg       0.85      0.86      0.85     23898\n",
            "\n"
          ]
        },
        {
          "output_type": "stream",
          "name": "stderr",
          "text": [
            "/usr/local/lib/python3.10/dist-packages/sklearn/metrics/_classification.py:1531: UndefinedMetricWarning: Precision is ill-defined and being set to 0.0 in labels with no predicted samples. Use `zero_division` parameter to control this behavior.\n",
            "  _warn_prf(average, modifier, f\"{metric.capitalize()} is\", len(result))\n",
            "/usr/local/lib/python3.10/dist-packages/sklearn/metrics/_classification.py:1531: UndefinedMetricWarning: Precision is ill-defined and being set to 0.0 in labels with no predicted samples. Use `zero_division` parameter to control this behavior.\n",
            "  _warn_prf(average, modifier, f\"{metric.capitalize()} is\", len(result))\n",
            "/usr/local/lib/python3.10/dist-packages/sklearn/metrics/_classification.py:1531: UndefinedMetricWarning: Precision is ill-defined and being set to 0.0 in labels with no predicted samples. Use `zero_division` parameter to control this behavior.\n",
            "  _warn_prf(average, modifier, f\"{metric.capitalize()} is\", len(result))\n"
          ]
        },
        {
          "output_type": "stream",
          "name": "stdout",
          "text": [
            "Accuracy for NOMBRE_SDOC: 0.8697028738431564\n",
            "                                                 precision    recall  f1-score   support\n",
            "\n",
            "                                Alta Tasas y PP       0.53      0.79      0.63        24\n",
            "                                 Alta en el IAE       0.90      0.92      0.91        75\n",
            "                         Alta y Baja Simultanea       0.00      0.00      0.00         1\n",
            "         Altas y otras alteraciones catastrales       1.00      0.50      0.67         2\n",
            "                       Alzamientos manuales C63       1.00      1.00      1.00         2\n",
            "                      Apoderamiento Electrónico       1.00      1.00      1.00        32\n",
            "                      Baja en el Censo del IVTM       1.00      0.18      0.31        11\n",
            "                        Beneficios fiscales IAE       1.00      0.11      0.20         9\n",
            "       Beneficios fiscales IVTM - O.Tributarios       0.93      0.98      0.96       478\n",
            "                                 Bienes Rústica       1.00      0.25      0.40         4\n",
            "                                  Bienes Urbana       1.00      0.32      0.48        22\n",
            "                         Bonificación en el IBI       0.98      0.98      0.98       332\n",
            "            Cambio de Gestión del Bien Inmueble       1.00      0.11      0.20         9\n",
            "                                  Certificación       0.78      0.45      0.57        47\n",
            "                         Compensación de deudas       0.00      0.00      0.00         2\n",
            "                          Comprobación Limitada       1.00      0.38      0.55         8\n",
            "     Comunicaciones con Entidades Colaboradoras       1.00      0.33      0.50         3\n",
            "                            Comunicación IIVTNU       0.78      0.45      0.57       140\n",
            "                             Declaración IIVTNU       0.86      0.98      0.92      1213\n",
            "                           Documentos Ejecutiva       0.89      1.00      0.94       423\n",
            "                             Exención en el IBI       0.50      0.10      0.17        10\n",
            "                                Fraccionamiento       0.96      0.95      0.95       301\n",
            "                          Hipoteca Legal Tácita       0.00      0.00      0.00         1\n",
            "                                     Inspección       0.89      0.84      0.86        61\n",
            "                  Otras solicitudes tributarias       0.72      0.84      0.78       384\n",
            "                               Pagos Duplicados       1.00      0.07      0.13        14\n",
            "                     Plan Personalizado de Pago       0.98      0.91      0.95        68\n",
            "                            Prorrateo en el IAE       0.00      0.00      0.00         0\n",
            "                           Prorrateo en el IVTM       1.00      0.50      0.67         8\n",
            "Reclamación económico administrativa sobre ICIO       0.00      0.00      0.00         2\n",
            "              Recurso Contribuciones Especiales       0.50      0.38      0.43         8\n",
            "                    Recurso Cuotas Urbanisticas       0.00      0.00      0.00         2\n",
            "  Recurso contra el procedimiento de Inspección       0.00      0.00      0.00         3\n",
            "    Recurso sobre Impuestos de Bienes Inmuebles       0.00      0.00      0.00         1\n",
            "           Recurso sobre actividades económicas       1.00      0.11      0.20         9\n",
            "                  Recurso sobre domiciliaciones       0.00      0.00      0.00         3\n",
            "                     Recurso sobre duplicidades       0.00      0.00      0.00         3\n",
            "         Recurso sobre la Diligencia de Embargo       0.44      0.29      0.35        28\n",
            "        Recurso sobre la Providencia de Apremio       0.76      0.35      0.48        46\n",
            "        Recurso sobre sanciones de Ayuntamiento       0.00      0.00      0.00         7\n",
            "         Recurso sobre tasas y precios públicos       1.00      0.19      0.31        27\n",
            "                        Recurso sobre vehículos       0.00      0.00      0.00         1\n",
            "                           Recursos catastrales       0.71      0.38      0.50        13\n",
            "             Recursos sobre IIVTNU (Plusvalias)       0.81      0.73      0.77       244\n",
            "                   Rehabilitación OT Tasas y PP       0.00      0.00      0.00        12\n",
            "                           Representante fiscal       0.00      0.00      0.00         1\n",
            "                         Sanción por inspección       1.00      1.00      1.00         4\n",
            "            Sistema Fraccionamiento Domiciliado       0.00      0.00      0.00         1\n",
            "                                    Subsidiaria       0.00      0.00      0.00         5\n",
            "                           Variación Tasas y PP       0.00      0.00      0.00         2\n",
            "\n",
            "                                       accuracy                           0.87      4106\n",
            "                                      macro avg       0.58      0.37      0.41      4106\n",
            "                                   weighted avg       0.86      0.87      0.85      4106\n",
            "\n"
          ]
        },
        {
          "output_type": "stream",
          "name": "stderr",
          "text": [
            "/usr/local/lib/python3.10/dist-packages/sklearn/metrics/_classification.py:1531: UndefinedMetricWarning: Precision is ill-defined and being set to 0.0 in labels with no predicted samples. Use `zero_division` parameter to control this behavior.\n",
            "  _warn_prf(average, modifier, f\"{metric.capitalize()} is\", len(result))\n",
            "/usr/local/lib/python3.10/dist-packages/sklearn/metrics/_classification.py:1531: UndefinedMetricWarning: Recall is ill-defined and being set to 0.0 in labels with no true samples. Use `zero_division` parameter to control this behavior.\n",
            "  _warn_prf(average, modifier, f\"{metric.capitalize()} is\", len(result))\n",
            "/usr/local/lib/python3.10/dist-packages/sklearn/metrics/_classification.py:1531: UndefinedMetricWarning: Precision is ill-defined and being set to 0.0 in labels with no predicted samples. Use `zero_division` parameter to control this behavior.\n",
            "  _warn_prf(average, modifier, f\"{metric.capitalize()} is\", len(result))\n",
            "/usr/local/lib/python3.10/dist-packages/sklearn/metrics/_classification.py:1531: UndefinedMetricWarning: Recall is ill-defined and being set to 0.0 in labels with no true samples. Use `zero_division` parameter to control this behavior.\n",
            "  _warn_prf(average, modifier, f\"{metric.capitalize()} is\", len(result))\n",
            "/usr/local/lib/python3.10/dist-packages/sklearn/metrics/_classification.py:1531: UndefinedMetricWarning: Precision is ill-defined and being set to 0.0 in labels with no predicted samples. Use `zero_division` parameter to control this behavior.\n",
            "  _warn_prf(average, modifier, f\"{metric.capitalize()} is\", len(result))\n",
            "/usr/local/lib/python3.10/dist-packages/sklearn/metrics/_classification.py:1531: UndefinedMetricWarning: Recall is ill-defined and being set to 0.0 in labels with no true samples. Use `zero_division` parameter to control this behavior.\n",
            "  _warn_prf(average, modifier, f\"{metric.capitalize()} is\", len(result))\n"
          ]
        },
        {
          "output_type": "error",
          "ename": "RecursionError",
          "evalue": "maximum recursion depth exceeded while calling a Python object",
          "traceback": [
            "\u001b[0;31m---------------------------------------------------------------------------\u001b[0m",
            "\u001b[0;31mRecursionError\u001b[0m                            Traceback (most recent call last)",
            "\u001b[0;32m<ipython-input-10-4870c569c475>\u001b[0m in \u001b[0;36m<cell line: 74>\u001b[0;34m()\u001b[0m\n\u001b[1;32m     72\u001b[0m \u001b[0;31m# Visualización de uno de los árboles del Random Forest para NOMBRE_TDOC\u001b[0m\u001b[0;34m\u001b[0m\u001b[0;34m\u001b[0m\u001b[0m\n\u001b[1;32m     73\u001b[0m \u001b[0mplt\u001b[0m\u001b[0;34m.\u001b[0m\u001b[0mfigure\u001b[0m\u001b[0;34m(\u001b[0m\u001b[0mfigsize\u001b[0m\u001b[0;34m=\u001b[0m\u001b[0;34m(\u001b[0m\u001b[0;36m20\u001b[0m\u001b[0;34m,\u001b[0m\u001b[0;36m10\u001b[0m\u001b[0;34m)\u001b[0m\u001b[0;34m)\u001b[0m\u001b[0;34m\u001b[0m\u001b[0;34m\u001b[0m\u001b[0m\n\u001b[0;32m---> 74\u001b[0;31m \u001b[0mplot_tree\u001b[0m\u001b[0;34m(\u001b[0m\u001b[0mrf_tdoc\u001b[0m\u001b[0;34m.\u001b[0m\u001b[0mestimators_\u001b[0m\u001b[0;34m[\u001b[0m\u001b[0;36m0\u001b[0m\u001b[0;34m]\u001b[0m\u001b[0;34m,\u001b[0m \u001b[0mfeature_names\u001b[0m\u001b[0;34m=\u001b[0m\u001b[0mvectorizer\u001b[0m\u001b[0;34m.\u001b[0m\u001b[0mget_feature_names_out\u001b[0m\u001b[0;34m(\u001b[0m\u001b[0;34m)\u001b[0m\u001b[0;34m,\u001b[0m \u001b[0mclass_names\u001b[0m\u001b[0;34m=\u001b[0m\u001b[0mle_tdoc\u001b[0m\u001b[0;34m.\u001b[0m\u001b[0mclasses_\u001b[0m\u001b[0;34m,\u001b[0m \u001b[0mfilled\u001b[0m\u001b[0;34m=\u001b[0m\u001b[0;32mTrue\u001b[0m\u001b[0;34m)\u001b[0m\u001b[0;34m\u001b[0m\u001b[0;34m\u001b[0m\u001b[0m\n\u001b[0m\u001b[1;32m     75\u001b[0m \u001b[0mplt\u001b[0m\u001b[0;34m.\u001b[0m\u001b[0mshow\u001b[0m\u001b[0;34m(\u001b[0m\u001b[0;34m)\u001b[0m\u001b[0;34m\u001b[0m\u001b[0;34m\u001b[0m\u001b[0m\n\u001b[1;32m     76\u001b[0m \u001b[0;34m\u001b[0m\u001b[0m\n",
            "\u001b[0;32m/usr/local/lib/python3.10/dist-packages/sklearn/utils/_param_validation.py\u001b[0m in \u001b[0;36mwrapper\u001b[0;34m(*args, **kwargs)\u001b[0m\n\u001b[1;32m    211\u001b[0m                     )\n\u001b[1;32m    212\u001b[0m                 ):\n\u001b[0;32m--> 213\u001b[0;31m                     \u001b[0;32mreturn\u001b[0m \u001b[0mfunc\u001b[0m\u001b[0;34m(\u001b[0m\u001b[0;34m*\u001b[0m\u001b[0margs\u001b[0m\u001b[0;34m,\u001b[0m \u001b[0;34m**\u001b[0m\u001b[0mkwargs\u001b[0m\u001b[0;34m)\u001b[0m\u001b[0;34m\u001b[0m\u001b[0;34m\u001b[0m\u001b[0m\n\u001b[0m\u001b[1;32m    214\u001b[0m             \u001b[0;32mexcept\u001b[0m \u001b[0mInvalidParameterError\u001b[0m \u001b[0;32mas\u001b[0m \u001b[0me\u001b[0m\u001b[0;34m:\u001b[0m\u001b[0;34m\u001b[0m\u001b[0;34m\u001b[0m\u001b[0m\n\u001b[1;32m    215\u001b[0m                 \u001b[0;31m# When the function is just a wrapper around an estimator, we allow\u001b[0m\u001b[0;34m\u001b[0m\u001b[0;34m\u001b[0m\u001b[0m\n",
            "\u001b[0;32m/usr/local/lib/python3.10/dist-packages/sklearn/tree/_export.py\u001b[0m in \u001b[0;36mplot_tree\u001b[0;34m(decision_tree, max_depth, feature_names, class_names, label, filled, impurity, node_ids, proportion, rounded, precision, ax, fontsize)\u001b[0m\n\u001b[1;32m    209\u001b[0m         \u001b[0mfontsize\u001b[0m\u001b[0;34m=\u001b[0m\u001b[0mfontsize\u001b[0m\u001b[0;34m,\u001b[0m\u001b[0;34m\u001b[0m\u001b[0;34m\u001b[0m\u001b[0m\n\u001b[1;32m    210\u001b[0m     )\n\u001b[0;32m--> 211\u001b[0;31m     \u001b[0;32mreturn\u001b[0m \u001b[0mexporter\u001b[0m\u001b[0;34m.\u001b[0m\u001b[0mexport\u001b[0m\u001b[0;34m(\u001b[0m\u001b[0mdecision_tree\u001b[0m\u001b[0;34m,\u001b[0m \u001b[0max\u001b[0m\u001b[0;34m=\u001b[0m\u001b[0max\u001b[0m\u001b[0;34m)\u001b[0m\u001b[0;34m\u001b[0m\u001b[0;34m\u001b[0m\u001b[0m\n\u001b[0m\u001b[1;32m    212\u001b[0m \u001b[0;34m\u001b[0m\u001b[0m\n\u001b[1;32m    213\u001b[0m \u001b[0;34m\u001b[0m\u001b[0m\n",
            "\u001b[0;32m/usr/local/lib/python3.10/dist-packages/sklearn/tree/_export.py\u001b[0m in \u001b[0;36mexport\u001b[0;34m(self, decision_tree, ax)\u001b[0m\n\u001b[1;32m    648\u001b[0m         \u001b[0max\u001b[0m\u001b[0;34m.\u001b[0m\u001b[0mset_axis_off\u001b[0m\u001b[0;34m(\u001b[0m\u001b[0;34m)\u001b[0m\u001b[0;34m\u001b[0m\u001b[0;34m\u001b[0m\u001b[0m\n\u001b[1;32m    649\u001b[0m         \u001b[0mmy_tree\u001b[0m \u001b[0;34m=\u001b[0m \u001b[0mself\u001b[0m\u001b[0;34m.\u001b[0m\u001b[0m_make_tree\u001b[0m\u001b[0;34m(\u001b[0m\u001b[0;36m0\u001b[0m\u001b[0;34m,\u001b[0m \u001b[0mdecision_tree\u001b[0m\u001b[0;34m.\u001b[0m\u001b[0mtree_\u001b[0m\u001b[0;34m,\u001b[0m \u001b[0mdecision_tree\u001b[0m\u001b[0;34m.\u001b[0m\u001b[0mcriterion\u001b[0m\u001b[0;34m)\u001b[0m\u001b[0;34m\u001b[0m\u001b[0;34m\u001b[0m\u001b[0m\n\u001b[0;32m--> 650\u001b[0;31m         \u001b[0mdraw_tree\u001b[0m \u001b[0;34m=\u001b[0m \u001b[0mbuchheim\u001b[0m\u001b[0;34m(\u001b[0m\u001b[0mmy_tree\u001b[0m\u001b[0;34m)\u001b[0m\u001b[0;34m\u001b[0m\u001b[0;34m\u001b[0m\u001b[0m\n\u001b[0m\u001b[1;32m    651\u001b[0m \u001b[0;34m\u001b[0m\u001b[0m\n\u001b[1;32m    652\u001b[0m         \u001b[0;31m# important to make sure we're still\u001b[0m\u001b[0;34m\u001b[0m\u001b[0;34m\u001b[0m\u001b[0m\n",
            "\u001b[0;32m/usr/local/lib/python3.10/dist-packages/sklearn/tree/_reingold_tilford.py\u001b[0m in \u001b[0;36mbuchheim\u001b[0;34m(tree)\u001b[0m\n\u001b[1;32m     58\u001b[0m \u001b[0;34m\u001b[0m\u001b[0m\n\u001b[1;32m     59\u001b[0m \u001b[0;32mdef\u001b[0m \u001b[0mbuchheim\u001b[0m\u001b[0;34m(\u001b[0m\u001b[0mtree\u001b[0m\u001b[0;34m)\u001b[0m\u001b[0;34m:\u001b[0m\u001b[0;34m\u001b[0m\u001b[0;34m\u001b[0m\u001b[0m\n\u001b[0;32m---> 60\u001b[0;31m     \u001b[0mdt\u001b[0m \u001b[0;34m=\u001b[0m \u001b[0mfirst_walk\u001b[0m\u001b[0;34m(\u001b[0m\u001b[0mDrawTree\u001b[0m\u001b[0;34m(\u001b[0m\u001b[0mtree\u001b[0m\u001b[0;34m)\u001b[0m\u001b[0;34m)\u001b[0m\u001b[0;34m\u001b[0m\u001b[0;34m\u001b[0m\u001b[0m\n\u001b[0m\u001b[1;32m     61\u001b[0m     \u001b[0mmin\u001b[0m \u001b[0;34m=\u001b[0m \u001b[0msecond_walk\u001b[0m\u001b[0;34m(\u001b[0m\u001b[0mdt\u001b[0m\u001b[0;34m)\u001b[0m\u001b[0;34m\u001b[0m\u001b[0;34m\u001b[0m\u001b[0m\n\u001b[1;32m     62\u001b[0m     \u001b[0;32mif\u001b[0m \u001b[0mmin\u001b[0m \u001b[0;34m<\u001b[0m \u001b[0;36m0\u001b[0m\u001b[0;34m:\u001b[0m\u001b[0;34m\u001b[0m\u001b[0;34m\u001b[0m\u001b[0m\n",
            "\u001b[0;32m/usr/local/lib/python3.10/dist-packages/sklearn/tree/_reingold_tilford.py\u001b[0m in \u001b[0;36m__init__\u001b[0;34m(self, tree, parent, depth, number)\u001b[0m\n\u001b[1;32m     10\u001b[0m         \u001b[0mself\u001b[0m\u001b[0;34m.\u001b[0m\u001b[0my\u001b[0m \u001b[0;34m=\u001b[0m \u001b[0mdepth\u001b[0m\u001b[0;34m\u001b[0m\u001b[0;34m\u001b[0m\u001b[0m\n\u001b[1;32m     11\u001b[0m         \u001b[0mself\u001b[0m\u001b[0;34m.\u001b[0m\u001b[0mtree\u001b[0m \u001b[0;34m=\u001b[0m \u001b[0mtree\u001b[0m\u001b[0;34m\u001b[0m\u001b[0;34m\u001b[0m\u001b[0m\n\u001b[0;32m---> 12\u001b[0;31m         self.children = [\n\u001b[0m\u001b[1;32m     13\u001b[0m             \u001b[0mDrawTree\u001b[0m\u001b[0;34m(\u001b[0m\u001b[0mc\u001b[0m\u001b[0;34m,\u001b[0m \u001b[0mself\u001b[0m\u001b[0;34m,\u001b[0m \u001b[0mdepth\u001b[0m \u001b[0;34m+\u001b[0m \u001b[0;36m1\u001b[0m\u001b[0;34m,\u001b[0m \u001b[0mi\u001b[0m \u001b[0;34m+\u001b[0m \u001b[0;36m1\u001b[0m\u001b[0;34m)\u001b[0m \u001b[0;32mfor\u001b[0m \u001b[0mi\u001b[0m\u001b[0;34m,\u001b[0m \u001b[0mc\u001b[0m \u001b[0;32min\u001b[0m \u001b[0menumerate\u001b[0m\u001b[0;34m(\u001b[0m\u001b[0mtree\u001b[0m\u001b[0;34m.\u001b[0m\u001b[0mchildren\u001b[0m\u001b[0;34m)\u001b[0m\u001b[0;34m\u001b[0m\u001b[0;34m\u001b[0m\u001b[0m\n\u001b[1;32m     14\u001b[0m         ]\n",
            "\u001b[0;32m/usr/local/lib/python3.10/dist-packages/sklearn/tree/_reingold_tilford.py\u001b[0m in \u001b[0;36m<listcomp>\u001b[0;34m(.0)\u001b[0m\n\u001b[1;32m     11\u001b[0m         \u001b[0mself\u001b[0m\u001b[0;34m.\u001b[0m\u001b[0mtree\u001b[0m \u001b[0;34m=\u001b[0m \u001b[0mtree\u001b[0m\u001b[0;34m\u001b[0m\u001b[0;34m\u001b[0m\u001b[0m\n\u001b[1;32m     12\u001b[0m         self.children = [\n\u001b[0;32m---> 13\u001b[0;31m             \u001b[0mDrawTree\u001b[0m\u001b[0;34m(\u001b[0m\u001b[0mc\u001b[0m\u001b[0;34m,\u001b[0m \u001b[0mself\u001b[0m\u001b[0;34m,\u001b[0m \u001b[0mdepth\u001b[0m \u001b[0;34m+\u001b[0m \u001b[0;36m1\u001b[0m\u001b[0;34m,\u001b[0m \u001b[0mi\u001b[0m \u001b[0;34m+\u001b[0m \u001b[0;36m1\u001b[0m\u001b[0;34m)\u001b[0m \u001b[0;32mfor\u001b[0m \u001b[0mi\u001b[0m\u001b[0;34m,\u001b[0m \u001b[0mc\u001b[0m \u001b[0;32min\u001b[0m \u001b[0menumerate\u001b[0m\u001b[0;34m(\u001b[0m\u001b[0mtree\u001b[0m\u001b[0;34m.\u001b[0m\u001b[0mchildren\u001b[0m\u001b[0;34m)\u001b[0m\u001b[0;34m\u001b[0m\u001b[0;34m\u001b[0m\u001b[0m\n\u001b[0m\u001b[1;32m     14\u001b[0m         ]\n\u001b[1;32m     15\u001b[0m         \u001b[0mself\u001b[0m\u001b[0;34m.\u001b[0m\u001b[0mparent\u001b[0m \u001b[0;34m=\u001b[0m \u001b[0mparent\u001b[0m\u001b[0;34m\u001b[0m\u001b[0;34m\u001b[0m\u001b[0m\n",
            "... last 2 frames repeated, from the frame below ...\n",
            "\u001b[0;32m/usr/local/lib/python3.10/dist-packages/sklearn/tree/_reingold_tilford.py\u001b[0m in \u001b[0;36m__init__\u001b[0;34m(self, tree, parent, depth, number)\u001b[0m\n\u001b[1;32m     10\u001b[0m         \u001b[0mself\u001b[0m\u001b[0;34m.\u001b[0m\u001b[0my\u001b[0m \u001b[0;34m=\u001b[0m \u001b[0mdepth\u001b[0m\u001b[0;34m\u001b[0m\u001b[0;34m\u001b[0m\u001b[0m\n\u001b[1;32m     11\u001b[0m         \u001b[0mself\u001b[0m\u001b[0;34m.\u001b[0m\u001b[0mtree\u001b[0m \u001b[0;34m=\u001b[0m \u001b[0mtree\u001b[0m\u001b[0;34m\u001b[0m\u001b[0;34m\u001b[0m\u001b[0m\n\u001b[0;32m---> 12\u001b[0;31m         self.children = [\n\u001b[0m\u001b[1;32m     13\u001b[0m             \u001b[0mDrawTree\u001b[0m\u001b[0;34m(\u001b[0m\u001b[0mc\u001b[0m\u001b[0;34m,\u001b[0m \u001b[0mself\u001b[0m\u001b[0;34m,\u001b[0m \u001b[0mdepth\u001b[0m \u001b[0;34m+\u001b[0m \u001b[0;36m1\u001b[0m\u001b[0;34m,\u001b[0m \u001b[0mi\u001b[0m \u001b[0;34m+\u001b[0m \u001b[0;36m1\u001b[0m\u001b[0;34m)\u001b[0m \u001b[0;32mfor\u001b[0m \u001b[0mi\u001b[0m\u001b[0;34m,\u001b[0m \u001b[0mc\u001b[0m \u001b[0;32min\u001b[0m \u001b[0menumerate\u001b[0m\u001b[0;34m(\u001b[0m\u001b[0mtree\u001b[0m\u001b[0;34m.\u001b[0m\u001b[0mchildren\u001b[0m\u001b[0;34m)\u001b[0m\u001b[0;34m\u001b[0m\u001b[0;34m\u001b[0m\u001b[0m\n\u001b[1;32m     14\u001b[0m         ]\n",
            "\u001b[0;31mRecursionError\u001b[0m: maximum recursion depth exceeded while calling a Python object"
          ]
        },
        {
          "output_type": "display_data",
          "data": {
            "text/plain": [
              "<Figure size 2000x1000 with 1 Axes>"
            ],
            "image/png": "[encoded data removed]"
          },
          "metadata": {}
        }
      ],
      "source": [
        "import pandas as pd\n",
        "from sklearn.model_selection import train_test_split\n",
        "from sklearn.feature_extraction.text import TfidfVectorizer\n",
        "from sklearn.ensemble import RandomForestClassifier\n",
        "from sklearn.metrics import classification_report, accuracy_score\n",
        "from sklearn.preprocessing import LabelEncoder\n",
        "from sklearn.tree import plot_tree\n",
        "import matplotlib.pyplot as plt\n",
        "import joblib\n",
        "\n",
        "# Cargar los datos\n",
        "df = pd.read_csv('DS2.csv', delimiter=';', encoding='utf-8')\n",
        "\n",
        "# Preprocesamiento: Limpieza y codificación de texto\n",
        "df['TEXTO_SOLICITUD_PREL'] = df['TEXTO_SOLICITUD_PREL'].fillna('')\n",
        "\n",
        "# Codificar las etiquetas\n",
        "le_tdoc = LabelEncoder()\n",
        "df['NOMBRE_TDOC'] = le_tdoc.fit_transform(df['NOMBRE_TDOC'])\n",
        "\n",
        "le_sdoc = LabelEncoder()\n",
        "df['NOMBRE_SDOC'] = le_sdoc.fit_transform(df['NOMBRE_SDOC'])\n",
        "\n",
        "# Vectorización del texto\n",
        "vectorizer = TfidfVectorizer(max_features=5000)\n",
        "X = vectorizer.fit_transform(df['TEXTO_SOLICITUD_PREL'])\n",
        "\n",
        "# Etiquetas\n",
        "y_tdoc = df['NOMBRE_TDOC']\n",
        "y_sdoc = df['NOMBRE_SDOC']\n",
        "\n",
        "# División de los datos en entrenamiento y prueba\n",
        "X_train, X_test, y_tdoc_train, y_tdoc_test = train_test_split(X, y_tdoc, test_size=0.2, random_state=42)\n",
        "_, _, y_sdoc_train, y_sdoc_test = train_test_split(X, y_sdoc, test_size=0.2, random_state=42)\n",
        "\n",
        "# Entrenamiento del modelo Random Forest para NOMBRE_TDOC\n",
        "rf_tdoc = RandomForestClassifier(n_estimators=100, random_state=42)\n",
        "rf_tdoc.fit(X_train, y_tdoc_train)\n",
        "\n",
        "# Predicción y evaluación para NOMBRE_TDOC\n",
        "y_tdoc_pred = rf_tdoc.predict(X_test)\n",
        "tdoc_accuracy = accuracy_score(y_tdoc_test, y_tdoc_pred)\n",
        "print(f'Accuracy for NOMBRE_TDOC: {tdoc_accuracy}')\n",
        "\n",
        "# Generar el reporte de clasificación usando solo las clases presentes en el conjunto de prueba\n",
        "labels_present = sorted(set(y_tdoc_test) | set(y_tdoc_pred))\n",
        "print(classification_report(y_tdoc_test, y_tdoc_pred, labels=labels_present, target_names=le_tdoc.inverse_transform(labels_present)))\n",
        "\n",
        "# Ahora para NOMBRE_SDOC\n",
        "correct_indices = (y_tdoc_pred == y_tdoc_test)\n",
        "\n",
        "# Aplica correct_indices solo a X_test y y_sdoc_test\n",
        "X_test_sdoc = X_test[correct_indices]\n",
        "y_sdoc_correct = y_sdoc_test[correct_indices]\n",
        "\n",
        "# Dividir el conjunto correcto para el entrenamiento y prueba de NOMBRE_SDOC\n",
        "X_train_sdoc, X_test_sdoc, y_sdoc_train, y_sdoc_test_correct = train_test_split(X_test_sdoc, y_sdoc_correct, test_size=0.2, random_state=42)\n",
        "\n",
        "# Entrenamiento del modelo Random Forest para NOMBRE_SDOC\n",
        "rf_sdoc = RandomForestClassifier(n_estimators=100, random_state=42)\n",
        "rf_sdoc.fit(X_train_sdoc, y_sdoc_train)\n",
        "\n",
        "# Predicción y evaluación para NOMBRE_SDOC\n",
        "y_sdoc_pred = rf_sdoc.predict(X_test_sdoc)\n",
        "sdoc_accuracy = accuracy_score(y_sdoc_test_correct, y_sdoc_pred)\n",
        "print(f'Accuracy for NOMBRE_SDOC: {sdoc_accuracy}')\n",
        "\n",
        "# Generar el reporte de clasificación usando solo las clases presentes en el conjunto de prueba\n",
        "labels_present_sdoc = sorted(set(y_sdoc_test_correct) | set(y_sdoc_pred))\n",
        "print(classification_report(y_sdoc_test_correct, y_sdoc_pred, labels=labels_present_sdoc, target_names=le_sdoc.inverse_transform(labels_present_sdoc)))\n",
        "\n"
      ]
    },
    {
      "cell_type": "code",
      "source": [
        "X_test.shape"
      ],
      "metadata": {
        "colab": {
          "base_uri": "https://localhost:8080/"
        },
        "id": "p5sEBjh6aRsA",
        "outputId": "a74ba635-9158-4c46-cc23-a74985549faf"
      },
      "execution_count": null,
      "outputs": [
        {
          "output_type": "execute_result",
          "data": {
            "text/plain": [
              "(23898, 5000)"
            ]
          },
          "metadata": {},
          "execution_count": 22
        }
      ]
    },
    {
      "cell_type": "code",
      "source": [
        "\n",
        "\n",
        "# Guardar los modelos\n",
        "joblib.dump(rf_tdoc, 'rf_tdoc_model.joblib')\n",
        "joblib.dump(rf_sdoc, 'rf_sdoc_model.joblib')\n",
        "\n",
        "\n"
      ],
      "metadata": {
        "colab": {
          "base_uri": "https://localhost:8080/"
        },
        "id": "od6aCZYMO9QQ",
        "outputId": "4d3d8f04-ff4e-479d-c32a-ea52444b25c6"
      },
      "execution_count": null,
      "outputs": [
        {
          "output_type": "stream",
          "name": "stdout",
          "text": [
            "Predicción para NOMBRE_TDOC: Solicitudes\n",
            "Predicción para NOMBRE_SDOC: Otras solicitudes tributarias\n"
          ]
        }
      ]
    },
    {
      "cell_type": "code",
      "source": [
        "# Predicción y evaluación para NOMBRE_TDOC\n",
        "y_tdoc_pred = rf_tdoc.predict(X_test)\n",
        "tdoc_accuracy = accuracy_score(y_tdoc_test, y_tdoc_pred)\n",
        "print(f'Accuracy for NOMBRE_TDOC: {tdoc_accuracy}')\n",
        "\n",
        "# Generar el reporte de clasificación usando solo las clases presentes en el conjunto de prueba\n",
        "labels_present = sorted(set(y_tdoc_test) | set(y_tdoc_pred))\n",
        "classification_report_tdoc = classification_report(y_tdoc_test, y_tdoc_pred, labels=labels_present, target_names=le_tdoc.inverse_transform(labels_present))\n",
        "print(\"Classification Report for NOMBRE_TDOC:\")\n",
        "print(classification_report_tdoc)\n",
        "\n"
      ],
      "metadata": {
        "colab": {
          "base_uri": "https://localhost:8080/"
        },
        "id": "2y3uhnuDBzPx",
        "outputId": "0408c470-1ed1-4f0a-b101-5b20775fae79"
      },
      "execution_count": null,
      "outputs": [
        {
          "output_type": "stream",
          "name": "stdout",
          "text": [
            "Accuracy for NOMBRE_TDOC: 0.8589003263871454\n",
            "Classification Report for NOMBRE_TDOC:\n",
            "                                            precision    recall  f1-score   support\n",
            "\n",
            "Alteraciones Catastrales de Orden Jurídico       0.72      0.28      0.41       494\n",
            "                       Beneficios Fiscales       0.96      0.96      0.96      4221\n",
            "                             Declaraciones       0.89      0.96      0.92      7624\n",
            "                         Declaraciones IAE       0.50      0.03      0.06        30\n",
            "                        Declaraciones IVTM       0.81      0.36      0.50       159\n",
            "                  Declaraciones Tasas y PP       0.90      0.86      0.88       210\n",
            "             Derivación de Responsabilidad       0.65      0.27      0.39        62\n",
            "                              Devoluciones       0.80      0.33      0.47       321\n",
            "                      Devolución de Avales       1.00      0.25      0.40         4\n",
            "                      Documentos Ejecutiva       0.87      0.95      0.91      2413\n",
            "                           Gestión Interna       0.00      0.00      0.00         2\n",
            "             Inspecciones y Comprobaciones       0.77      0.69      0.73       603\n",
            "            Otras Alteraciones Catastrales       0.92      0.21      0.34        57\n",
            "                Otros Tipos de Expedientes       0.84      0.24      0.38       107\n",
            "                 Procedimiento Sancionador       0.00      0.00      0.00         1\n",
            "                                  Recursos       0.74      0.70      0.72      2877\n",
            "                    Sancionador Tributario       1.00      0.49      0.65        35\n",
            "                               Solicitudes       0.79      0.85      0.82      4627\n",
            "                Solicitudes no tributarias       0.00      0.00      0.00         2\n",
            "                        Trámites Ejecutiva       0.70      0.14      0.24        49\n",
            "\n",
            "                                  accuracy                           0.86     23898\n",
            "                                 macro avg       0.69      0.43      0.49     23898\n",
            "                              weighted avg       0.85      0.86      0.85     23898\n",
            "\n"
          ]
        },
        {
          "output_type": "stream",
          "name": "stderr",
          "text": [
            "/usr/local/lib/python3.10/dist-packages/sklearn/metrics/_classification.py:1531: UndefinedMetricWarning: Precision is ill-defined and being set to 0.0 in labels with no predicted samples. Use `zero_division` parameter to control this behavior.\n",
            "  _warn_prf(average, modifier, f\"{metric.capitalize()} is\", len(result))\n",
            "/usr/local/lib/python3.10/dist-packages/sklearn/metrics/_classification.py:1531: UndefinedMetricWarning: Precision is ill-defined and being set to 0.0 in labels with no predicted samples. Use `zero_division` parameter to control this behavior.\n",
            "  _warn_prf(average, modifier, f\"{metric.capitalize()} is\", len(result))\n",
            "/usr/local/lib/python3.10/dist-packages/sklearn/metrics/_classification.py:1531: UndefinedMetricWarning: Precision is ill-defined and being set to 0.0 in labels with no predicted samples. Use `zero_division` parameter to control this behavior.\n",
            "  _warn_prf(average, modifier, f\"{metric.capitalize()} is\", len(result))\n"
          ]
        }
      ]
    },
    {
      "cell_type": "code",
      "source": [
        "# Predicción y evaluación para NOMBRE_SDOC\n",
        "y_sdoc_pred = rf_sdoc.predict(X_test_sdoc)\n",
        "sdoc_accuracy = accuracy_score(y_sdoc_test_correct, y_sdoc_pred)\n",
        "print(f'Accuracy for NOMBRE_SDOC: {sdoc_accuracy}')\n",
        "\n",
        "# Generar el reporte de clasificación usando solo las clases presentes en el conjunto de prueba\n",
        "labels_present_sdoc = sorted(set(y_sdoc_test_correct) | set(y_sdoc_pred))\n",
        "classification_report_sdoc = classification_report(y_sdoc_test_correct, y_sdoc_pred, labels=labels_present_sdoc, target_names=le_sdoc.inverse_transform(labels_present_sdoc))\n",
        "print(\"Classification Report for NOMBRE_SDOC:\")\n",
        "print(classification_report_sdoc)\n"
      ],
      "metadata": {
        "colab": {
          "base_uri": "https://localhost:8080/"
        },
        "id": "0BFUCOPAPoF-",
        "outputId": "6dafb71a-2d85-4c72-a209-80fff9646209"
      },
      "execution_count": null,
      "outputs": [
        {
          "output_type": "stream",
          "name": "stdout",
          "text": [
            "Accuracy for NOMBRE_SDOC: 0.8697028738431564\n",
            "Classification Report for NOMBRE_SDOC:\n",
            "                                                 precision    recall  f1-score   support\n",
            "\n",
            "                                Alta Tasas y PP       0.53      0.79      0.63        24\n",
            "                                 Alta en el IAE       0.90      0.92      0.91        75\n",
            "                         Alta y Baja Simultanea       0.00      0.00      0.00         1\n",
            "         Altas y otras alteraciones catastrales       1.00      0.50      0.67         2\n",
            "                       Alzamientos manuales C63       1.00      1.00      1.00         2\n",
            "                      Apoderamiento Electrónico       1.00      1.00      1.00        32\n",
            "                      Baja en el Censo del IVTM       1.00      0.18      0.31        11\n",
            "                        Beneficios fiscales IAE       1.00      0.11      0.20         9\n",
            "       Beneficios fiscales IVTM - O.Tributarios       0.93      0.98      0.96       478\n",
            "                                 Bienes Rústica       1.00      0.25      0.40         4\n",
            "                                  Bienes Urbana       1.00      0.32      0.48        22\n",
            "                         Bonificación en el IBI       0.98      0.98      0.98       332\n",
            "            Cambio de Gestión del Bien Inmueble       1.00      0.11      0.20         9\n",
            "                                  Certificación       0.78      0.45      0.57        47\n",
            "                         Compensación de deudas       0.00      0.00      0.00         2\n",
            "                          Comprobación Limitada       1.00      0.38      0.55         8\n",
            "     Comunicaciones con Entidades Colaboradoras       1.00      0.33      0.50         3\n",
            "                            Comunicación IIVTNU       0.78      0.45      0.57       140\n",
            "                             Declaración IIVTNU       0.86      0.98      0.92      1213\n",
            "                           Documentos Ejecutiva       0.89      1.00      0.94       423\n",
            "                             Exención en el IBI       0.50      0.10      0.17        10\n",
            "                                Fraccionamiento       0.96      0.95      0.95       301\n",
            "                          Hipoteca Legal Tácita       0.00      0.00      0.00         1\n",
            "                                     Inspección       0.89      0.84      0.86        61\n",
            "                  Otras solicitudes tributarias       0.72      0.84      0.78       384\n",
            "                               Pagos Duplicados       1.00      0.07      0.13        14\n",
            "                     Plan Personalizado de Pago       0.98      0.91      0.95        68\n",
            "                            Prorrateo en el IAE       0.00      0.00      0.00         0\n",
            "                           Prorrateo en el IVTM       1.00      0.50      0.67         8\n",
            "Reclamación económico administrativa sobre ICIO       0.00      0.00      0.00         2\n",
            "              Recurso Contribuciones Especiales       0.50      0.38      0.43         8\n",
            "                    Recurso Cuotas Urbanisticas       0.00      0.00      0.00         2\n",
            "  Recurso contra el procedimiento de Inspección       0.00      0.00      0.00         3\n",
            "    Recurso sobre Impuestos de Bienes Inmuebles       0.00      0.00      0.00         1\n",
            "           Recurso sobre actividades económicas       1.00      0.11      0.20         9\n",
            "                  Recurso sobre domiciliaciones       0.00      0.00      0.00         3\n",
            "                     Recurso sobre duplicidades       0.00      0.00      0.00         3\n",
            "         Recurso sobre la Diligencia de Embargo       0.44      0.29      0.35        28\n",
            "        Recurso sobre la Providencia de Apremio       0.76      0.35      0.48        46\n",
            "        Recurso sobre sanciones de Ayuntamiento       0.00      0.00      0.00         7\n",
            "         Recurso sobre tasas y precios públicos       1.00      0.19      0.31        27\n",
            "                        Recurso sobre vehículos       0.00      0.00      0.00         1\n",
            "                           Recursos catastrales       0.71      0.38      0.50        13\n",
            "             Recursos sobre IIVTNU (Plusvalias)       0.81      0.73      0.77       244\n",
            "                   Rehabilitación OT Tasas y PP       0.00      0.00      0.00        12\n",
            "                           Representante fiscal       0.00      0.00      0.00         1\n",
            "                         Sanción por inspección       1.00      1.00      1.00         4\n",
            "            Sistema Fraccionamiento Domiciliado       0.00      0.00      0.00         1\n",
            "                                    Subsidiaria       0.00      0.00      0.00         5\n",
            "                           Variación Tasas y PP       0.00      0.00      0.00         2\n",
            "\n",
            "                                       accuracy                           0.87      4106\n",
            "                                      macro avg       0.58      0.37      0.41      4106\n",
            "                                   weighted avg       0.86      0.87      0.85      4106\n",
            "\n"
          ]
        },
        {
          "output_type": "stream",
          "name": "stderr",
          "text": [
            "/usr/local/lib/python3.10/dist-packages/sklearn/metrics/_classification.py:1531: UndefinedMetricWarning: Precision is ill-defined and being set to 0.0 in labels with no predicted samples. Use `zero_division` parameter to control this behavior.\n",
            "  _warn_prf(average, modifier, f\"{metric.capitalize()} is\", len(result))\n",
            "/usr/local/lib/python3.10/dist-packages/sklearn/metrics/_classification.py:1531: UndefinedMetricWarning: Recall is ill-defined and being set to 0.0 in labels with no true samples. Use `zero_division` parameter to control this behavior.\n",
            "  _warn_prf(average, modifier, f\"{metric.capitalize()} is\", len(result))\n",
            "/usr/local/lib/python3.10/dist-packages/sklearn/metrics/_classification.py:1531: UndefinedMetricWarning: Precision is ill-defined and being set to 0.0 in labels with no predicted samples. Use `zero_division` parameter to control this behavior.\n",
            "  _warn_prf(average, modifier, f\"{metric.capitalize()} is\", len(result))\n",
            "/usr/local/lib/python3.10/dist-packages/sklearn/metrics/_classification.py:1531: UndefinedMetricWarning: Recall is ill-defined and being set to 0.0 in labels with no true samples. Use `zero_division` parameter to control this behavior.\n",
            "  _warn_prf(average, modifier, f\"{metric.capitalize()} is\", len(result))\n",
            "/usr/local/lib/python3.10/dist-packages/sklearn/metrics/_classification.py:1531: UndefinedMetricWarning: Precision is ill-defined and being set to 0.0 in labels with no predicted samples. Use `zero_division` parameter to control this behavior.\n",
            "  _warn_prf(average, modifier, f\"{metric.capitalize()} is\", len(result))\n",
            "/usr/local/lib/python3.10/dist-packages/sklearn/metrics/_classification.py:1531: UndefinedMetricWarning: Recall is ill-defined and being set to 0.0 in labels with no true samples. Use `zero_division` parameter to control this behavior.\n",
            "  _warn_prf(average, modifier, f\"{metric.capitalize()} is\", len(result))\n"
          ]
        }
      ]
    },
    {
      "cell_type": "code",
      "source": [
        "# Ejemplo de un nuevo texto para predecir\n",
        "nuevo_texto = \"SOLICITO LA DEVOLUCION POR INGRESOS INDEBIDOS, EL VEHICULO FINALMENTE SE VA A MATRICULAR EN MULA ( MURCIA) NO EN MULA CAPITAL Y POR ERROR SE HA PAGADO AHI ADJUNTO NUMERO DE CUENTA ES88 3081 0224 41 1102628722\"\n",
        "\n",
        "# Verificar si el texto es válido\n",
        "if not isinstance(nuevo_texto, str) or len(nuevo_texto.strip()) == 0:\n",
        "    print(\"Error: El texto proporcionado es inválido.\")\n",
        "else:\n",
        "    # Preprocesamiento del texto (mismo que se utilizó durante el entrenamiento)\n",
        "    nuevo_texto_vectorizado = vectorizer.transform([nuevo_texto])\n",
        "\n",
        "    # Predicción de NOMBRE_TDOC\n",
        "    prediccion_tdoc = rf_tdoc.predict(nuevo_texto_vectorizado)\n",
        "    nombre_tdoc_predicho = le_tdoc.inverse_transform(prediccion_tdoc)\n",
        "    print(f'Predicción para NOMBRE_TDOC: {nombre_tdoc_predicho[0]}')\n",
        "\n",
        "    # Predicción de NOMBRE_SDOC (basada en la predicción de NOMBRE_TDOC)\n",
        "    prediccion_sdoc = rf_sdoc.predict(nuevo_texto_vectorizado)\n",
        "    nombre_sdoc_predicho = le_sdoc.inverse_transform(prediccion_sdoc)\n",
        "    print(f'Predicción para NOMBRE_SDOC: {nombre_sdoc_predicho[0]}')"
      ],
      "metadata": {
        "colab": {
          "base_uri": "https://localhost:8080/"
        },
        "id": "ix7otNsqPEDb",
        "outputId": "27dec996-1eb9-4eaf-eaa1-a5a29db49390"
      },
      "execution_count": null,
      "outputs": [
        {
          "output_type": "stream",
          "name": "stdout",
          "text": [
            "Predicción para NOMBRE_TDOC: Recursos\n",
            "Predicción para NOMBRE_SDOC: Otras solicitudes tributarias\n"
          ]
        }
      ]
    }
  ]
}